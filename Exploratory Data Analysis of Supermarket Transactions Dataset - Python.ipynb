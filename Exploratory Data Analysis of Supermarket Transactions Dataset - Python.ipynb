{
 "cells": [
  {
   "cell_type": "code",
   "execution_count": 9,
   "metadata": {},
   "outputs": [],
   "source": [
    "import pandas as pd\n",
    "import matplotlib.pyplot as plt\n",
    "import seaborn as s"
   ]
  },
  {
   "cell_type": "code",
   "execution_count": 10,
   "metadata": {},
   "outputs": [],
   "source": [
    "#Importing the Supermarket transactions dataset to the variable data\n",
    "data=pd.read_csv(\"/Supermarket Transactions.csv\") #Use the location of the Supermarket Transactions dataset\n",
    "data2=data"
   ]
  },
  {
   "cell_type": "code",
   "execution_count": 11,
   "metadata": {},
   "outputs": [
    {
     "data": {
      "text/html": [
       "<div>\n",
       "<style scoped>\n",
       "    .dataframe tbody tr th:only-of-type {\n",
       "        vertical-align: middle;\n",
       "    }\n",
       "\n",
       "    .dataframe tbody tr th {\n",
       "        vertical-align: top;\n",
       "    }\n",
       "\n",
       "    .dataframe thead th {\n",
       "        text-align: right;\n",
       "    }\n",
       "</style>\n",
       "<table border=\"1\" class=\"dataframe\">\n",
       "  <thead>\n",
       "    <tr style=\"text-align: right;\">\n",
       "      <th></th>\n",
       "      <th>Transaction</th>\n",
       "      <th>Purchase Date</th>\n",
       "      <th>Customer ID</th>\n",
       "      <th>Gender</th>\n",
       "      <th>Marital Status</th>\n",
       "      <th>Homeowner</th>\n",
       "      <th>Children</th>\n",
       "      <th>Annual Income $</th>\n",
       "      <th>City</th>\n",
       "      <th>State or Province</th>\n",
       "      <th>Country</th>\n",
       "      <th>Product Family</th>\n",
       "      <th>Product Department</th>\n",
       "      <th>Product Category</th>\n",
       "      <th>Units Sold</th>\n",
       "      <th>Revenue</th>\n",
       "    </tr>\n",
       "  </thead>\n",
       "  <tbody>\n",
       "    <tr>\n",
       "      <th>0</th>\n",
       "      <td>1</td>\n",
       "      <td>18-12-2011</td>\n",
       "      <td>7223</td>\n",
       "      <td>F</td>\n",
       "      <td>M</td>\n",
       "      <td>Y</td>\n",
       "      <td>2</td>\n",
       "      <td>$30K - $50K</td>\n",
       "      <td>Los Angeles</td>\n",
       "      <td>CA</td>\n",
       "      <td>USA</td>\n",
       "      <td>Food</td>\n",
       "      <td>Snack Foods</td>\n",
       "      <td>Snack Foods</td>\n",
       "      <td>5</td>\n",
       "      <td>$27.38</td>\n",
       "    </tr>\n",
       "    <tr>\n",
       "      <th>1</th>\n",
       "      <td>2</td>\n",
       "      <td>20-12-2011</td>\n",
       "      <td>7841</td>\n",
       "      <td>M</td>\n",
       "      <td>M</td>\n",
       "      <td>Y</td>\n",
       "      <td>5</td>\n",
       "      <td>$70K - $90K</td>\n",
       "      <td>Los Angeles</td>\n",
       "      <td>CA</td>\n",
       "      <td>USA</td>\n",
       "      <td>Food</td>\n",
       "      <td>Produce</td>\n",
       "      <td>Vegetables</td>\n",
       "      <td>5</td>\n",
       "      <td>$14.90</td>\n",
       "    </tr>\n",
       "    <tr>\n",
       "      <th>2</th>\n",
       "      <td>3</td>\n",
       "      <td>21-12-2011</td>\n",
       "      <td>8374</td>\n",
       "      <td>F</td>\n",
       "      <td>M</td>\n",
       "      <td>N</td>\n",
       "      <td>2</td>\n",
       "      <td>$50K - $70K</td>\n",
       "      <td>Bremerton</td>\n",
       "      <td>WA</td>\n",
       "      <td>USA</td>\n",
       "      <td>Food</td>\n",
       "      <td>Snack Foods</td>\n",
       "      <td>Snack Foods</td>\n",
       "      <td>3</td>\n",
       "      <td>$5.52</td>\n",
       "    </tr>\n",
       "    <tr>\n",
       "      <th>3</th>\n",
       "      <td>4</td>\n",
       "      <td>21-12-2011</td>\n",
       "      <td>9619</td>\n",
       "      <td>M</td>\n",
       "      <td>M</td>\n",
       "      <td>Y</td>\n",
       "      <td>3</td>\n",
       "      <td>$30K - $50K</td>\n",
       "      <td>Portland</td>\n",
       "      <td>OR</td>\n",
       "      <td>USA</td>\n",
       "      <td>Food</td>\n",
       "      <td>Snacks</td>\n",
       "      <td>Candy</td>\n",
       "      <td>4</td>\n",
       "      <td>$4.44</td>\n",
       "    </tr>\n",
       "    <tr>\n",
       "      <th>4</th>\n",
       "      <td>5</td>\n",
       "      <td>22-12-2011</td>\n",
       "      <td>1900</td>\n",
       "      <td>F</td>\n",
       "      <td>S</td>\n",
       "      <td>Y</td>\n",
       "      <td>3</td>\n",
       "      <td>$130K - $150K</td>\n",
       "      <td>Beverly Hills</td>\n",
       "      <td>CA</td>\n",
       "      <td>USA</td>\n",
       "      <td>Drink</td>\n",
       "      <td>Beverages</td>\n",
       "      <td>Carbonated Beverages</td>\n",
       "      <td>4</td>\n",
       "      <td>$14.00</td>\n",
       "    </tr>\n",
       "  </tbody>\n",
       "</table>\n",
       "</div>"
      ],
      "text/plain": [
       "   Transaction Purchase Date  Customer ID Gender Marital Status Homeowner  \\\n",
       "0            1    18-12-2011         7223      F              M         Y   \n",
       "1            2    20-12-2011         7841      M              M         Y   \n",
       "2            3    21-12-2011         8374      F              M         N   \n",
       "3            4    21-12-2011         9619      M              M         Y   \n",
       "4            5    22-12-2011         1900      F              S         Y   \n",
       "\n",
       "   Children Annual Income $           City State or Province Country  \\\n",
       "0         2     $30K - $50K    Los Angeles                CA     USA   \n",
       "1         5     $70K - $90K    Los Angeles                CA     USA   \n",
       "2         2     $50K - $70K      Bremerton                WA     USA   \n",
       "3         3     $30K - $50K       Portland                OR     USA   \n",
       "4         3   $130K - $150K  Beverly Hills                CA     USA   \n",
       "\n",
       "  Product Family Product Department      Product Category  Units Sold Revenue  \n",
       "0           Food        Snack Foods           Snack Foods           5  $27.38  \n",
       "1           Food            Produce            Vegetables           5  $14.90  \n",
       "2           Food        Snack Foods           Snack Foods           3   $5.52  \n",
       "3           Food             Snacks                 Candy           4   $4.44  \n",
       "4          Drink          Beverages  Carbonated Beverages           4  $14.00  "
      ]
     },
     "execution_count": 11,
     "metadata": {},
     "output_type": "execute_result"
    }
   ],
   "source": [
    "data.head(5) "
   ]
  },
  {
   "cell_type": "code",
   "execution_count": 12,
   "metadata": {},
   "outputs": [
    {
     "data": {
      "text/plain": [
       "(14059, 16)"
      ]
     },
     "execution_count": 12,
     "metadata": {},
     "output_type": "execute_result"
    }
   ],
   "source": [
    "data.shape "
   ]
  },
  {
   "cell_type": "markdown",
   "metadata": {},
   "source": [
    "Shape gives the number of rows and number of columns in the dataset. So in this Supermarket transactions dataset, there are totally 14059 rows and 16 variables."
   ]
  },
  {
   "cell_type": "code",
   "execution_count": 13,
   "metadata": {},
   "outputs": [
    {
     "data": {
      "text/plain": [
       "Transaction            int64\n",
       "Purchase Date         object\n",
       "Customer ID            int64\n",
       "Gender                object\n",
       "Marital Status        object\n",
       "Homeowner             object\n",
       "Children               int64\n",
       "Annual Income $       object\n",
       "City                  object\n",
       "State or Province     object\n",
       "Country               object\n",
       "Product Family        object\n",
       "Product Department    object\n",
       "Product Category      object\n",
       "Units Sold             int64\n",
       "Revenue               object\n",
       "dtype: object"
      ]
     },
     "execution_count": 13,
     "metadata": {},
     "output_type": "execute_result"
    }
   ],
   "source": [
    "data.dtypes"
   ]
  },
  {
   "cell_type": "markdown",
   "metadata": {},
   "source": [
    "dtypes is used to get the datatype of each variable in the dataset. So out of the 16 variables we have 4 integer variables ( Transcation, Customer ID, Children, Units Sold) and remaining 12 string variables.\n",
    "In Python datatypes are showed as String, but in Pandas it is showed as object."
   ]
  },
  {
   "cell_type": "code",
   "execution_count": 14,
   "metadata": {},
   "outputs": [
    {
     "data": {
      "text/html": [
       "<div>\n",
       "<style scoped>\n",
       "    .dataframe tbody tr th:only-of-type {\n",
       "        vertical-align: middle;\n",
       "    }\n",
       "\n",
       "    .dataframe tbody tr th {\n",
       "        vertical-align: top;\n",
       "    }\n",
       "\n",
       "    .dataframe thead th {\n",
       "        text-align: right;\n",
       "    }\n",
       "</style>\n",
       "<table border=\"1\" class=\"dataframe\">\n",
       "  <thead>\n",
       "    <tr style=\"text-align: right;\">\n",
       "      <th></th>\n",
       "      <th>Transaction</th>\n",
       "      <th>Customer ID</th>\n",
       "      <th>Children</th>\n",
       "      <th>Units Sold</th>\n",
       "    </tr>\n",
       "  </thead>\n",
       "  <tbody>\n",
       "    <tr>\n",
       "      <th>count</th>\n",
       "      <td>14059.000000</td>\n",
       "      <td>14059.000000</td>\n",
       "      <td>14059.000000</td>\n",
       "      <td>14059.000000</td>\n",
       "    </tr>\n",
       "    <tr>\n",
       "      <th>mean</th>\n",
       "      <td>7030.000000</td>\n",
       "      <td>5116.902127</td>\n",
       "      <td>2.530336</td>\n",
       "      <td>4.080589</td>\n",
       "    </tr>\n",
       "    <tr>\n",
       "      <th>std</th>\n",
       "      <td>4058.628052</td>\n",
       "      <td>2920.755202</td>\n",
       "      <td>1.491852</td>\n",
       "      <td>1.174421</td>\n",
       "    </tr>\n",
       "    <tr>\n",
       "      <th>min</th>\n",
       "      <td>1.000000</td>\n",
       "      <td>3.000000</td>\n",
       "      <td>0.000000</td>\n",
       "      <td>1.000000</td>\n",
       "    </tr>\n",
       "    <tr>\n",
       "      <th>25%</th>\n",
       "      <td>3515.500000</td>\n",
       "      <td>2549.000000</td>\n",
       "      <td>1.000000</td>\n",
       "      <td>3.000000</td>\n",
       "    </tr>\n",
       "    <tr>\n",
       "      <th>50%</th>\n",
       "      <td>7030.000000</td>\n",
       "      <td>5060.000000</td>\n",
       "      <td>3.000000</td>\n",
       "      <td>4.000000</td>\n",
       "    </tr>\n",
       "    <tr>\n",
       "      <th>75%</th>\n",
       "      <td>10544.500000</td>\n",
       "      <td>7633.000000</td>\n",
       "      <td>4.000000</td>\n",
       "      <td>5.000000</td>\n",
       "    </tr>\n",
       "    <tr>\n",
       "      <th>max</th>\n",
       "      <td>14059.000000</td>\n",
       "      <td>10280.000000</td>\n",
       "      <td>5.000000</td>\n",
       "      <td>8.000000</td>\n",
       "    </tr>\n",
       "  </tbody>\n",
       "</table>\n",
       "</div>"
      ],
      "text/plain": [
       "        Transaction   Customer ID      Children    Units Sold\n",
       "count  14059.000000  14059.000000  14059.000000  14059.000000\n",
       "mean    7030.000000   5116.902127      2.530336      4.080589\n",
       "std     4058.628052   2920.755202      1.491852      1.174421\n",
       "min        1.000000      3.000000      0.000000      1.000000\n",
       "25%     3515.500000   2549.000000      1.000000      3.000000\n",
       "50%     7030.000000   5060.000000      3.000000      4.000000\n",
       "75%    10544.500000   7633.000000      4.000000      5.000000\n",
       "max    14059.000000  10280.000000      5.000000      8.000000"
      ]
     },
     "execution_count": 14,
     "metadata": {},
     "output_type": "execute_result"
    }
   ],
   "source": [
    "data.describe()"
   ]
  },
  {
   "cell_type": "markdown",
   "metadata": {},
   "source": [
    "describe() is used to print the summary or characteristics of the Numeric variables in the dataset. It shows the count, mean, Standard deviation, Minimum value and Maximum value of the variable.\n",
    "It gives only the summary of numeric (integer, float) values."
   ]
  },
  {
   "cell_type": "markdown",
   "metadata": {},
   "source": [
    "Then it is very important to check if there are any missing or Null values in the data. If there are missing values then, Imputation has to be performed to replace missing values with some other values like mean, mode, sum or No_value.\n",
    "To check the missing values in the datset, I am using is.null().\n"
   ]
  },
  {
   "cell_type": "code",
   "execution_count": 15,
   "metadata": {},
   "outputs": [
    {
     "data": {
      "text/html": [
       "<div>\n",
       "<style scoped>\n",
       "    .dataframe tbody tr th:only-of-type {\n",
       "        vertical-align: middle;\n",
       "    }\n",
       "\n",
       "    .dataframe tbody tr th {\n",
       "        vertical-align: top;\n",
       "    }\n",
       "\n",
       "    .dataframe thead th {\n",
       "        text-align: right;\n",
       "    }\n",
       "</style>\n",
       "<table border=\"1\" class=\"dataframe\">\n",
       "  <thead>\n",
       "    <tr style=\"text-align: right;\">\n",
       "      <th></th>\n",
       "      <th>Transaction</th>\n",
       "      <th>Purchase Date</th>\n",
       "      <th>Customer ID</th>\n",
       "      <th>Gender</th>\n",
       "      <th>Marital Status</th>\n",
       "      <th>Homeowner</th>\n",
       "      <th>Children</th>\n",
       "      <th>Annual Income $</th>\n",
       "      <th>City</th>\n",
       "      <th>State or Province</th>\n",
       "      <th>Country</th>\n",
       "      <th>Product Family</th>\n",
       "      <th>Product Department</th>\n",
       "      <th>Product Category</th>\n",
       "      <th>Units Sold</th>\n",
       "      <th>Revenue</th>\n",
       "    </tr>\n",
       "  </thead>\n",
       "  <tbody>\n",
       "    <tr>\n",
       "      <th>0</th>\n",
       "      <td>False</td>\n",
       "      <td>False</td>\n",
       "      <td>False</td>\n",
       "      <td>False</td>\n",
       "      <td>False</td>\n",
       "      <td>False</td>\n",
       "      <td>False</td>\n",
       "      <td>False</td>\n",
       "      <td>False</td>\n",
       "      <td>False</td>\n",
       "      <td>False</td>\n",
       "      <td>False</td>\n",
       "      <td>False</td>\n",
       "      <td>False</td>\n",
       "      <td>False</td>\n",
       "      <td>False</td>\n",
       "    </tr>\n",
       "    <tr>\n",
       "      <th>1</th>\n",
       "      <td>False</td>\n",
       "      <td>False</td>\n",
       "      <td>False</td>\n",
       "      <td>False</td>\n",
       "      <td>False</td>\n",
       "      <td>False</td>\n",
       "      <td>False</td>\n",
       "      <td>False</td>\n",
       "      <td>False</td>\n",
       "      <td>False</td>\n",
       "      <td>False</td>\n",
       "      <td>False</td>\n",
       "      <td>False</td>\n",
       "      <td>False</td>\n",
       "      <td>False</td>\n",
       "      <td>False</td>\n",
       "    </tr>\n",
       "    <tr>\n",
       "      <th>2</th>\n",
       "      <td>False</td>\n",
       "      <td>False</td>\n",
       "      <td>False</td>\n",
       "      <td>False</td>\n",
       "      <td>False</td>\n",
       "      <td>False</td>\n",
       "      <td>False</td>\n",
       "      <td>False</td>\n",
       "      <td>False</td>\n",
       "      <td>False</td>\n",
       "      <td>False</td>\n",
       "      <td>False</td>\n",
       "      <td>False</td>\n",
       "      <td>False</td>\n",
       "      <td>False</td>\n",
       "      <td>False</td>\n",
       "    </tr>\n",
       "    <tr>\n",
       "      <th>3</th>\n",
       "      <td>False</td>\n",
       "      <td>False</td>\n",
       "      <td>False</td>\n",
       "      <td>False</td>\n",
       "      <td>False</td>\n",
       "      <td>False</td>\n",
       "      <td>False</td>\n",
       "      <td>False</td>\n",
       "      <td>False</td>\n",
       "      <td>False</td>\n",
       "      <td>False</td>\n",
       "      <td>False</td>\n",
       "      <td>False</td>\n",
       "      <td>False</td>\n",
       "      <td>False</td>\n",
       "      <td>False</td>\n",
       "    </tr>\n",
       "    <tr>\n",
       "      <th>4</th>\n",
       "      <td>False</td>\n",
       "      <td>False</td>\n",
       "      <td>False</td>\n",
       "      <td>False</td>\n",
       "      <td>False</td>\n",
       "      <td>False</td>\n",
       "      <td>False</td>\n",
       "      <td>False</td>\n",
       "      <td>False</td>\n",
       "      <td>False</td>\n",
       "      <td>False</td>\n",
       "      <td>False</td>\n",
       "      <td>False</td>\n",
       "      <td>False</td>\n",
       "      <td>False</td>\n",
       "      <td>False</td>\n",
       "    </tr>\n",
       "    <tr>\n",
       "      <th>5</th>\n",
       "      <td>False</td>\n",
       "      <td>False</td>\n",
       "      <td>False</td>\n",
       "      <td>False</td>\n",
       "      <td>False</td>\n",
       "      <td>False</td>\n",
       "      <td>False</td>\n",
       "      <td>False</td>\n",
       "      <td>False</td>\n",
       "      <td>False</td>\n",
       "      <td>False</td>\n",
       "      <td>False</td>\n",
       "      <td>False</td>\n",
       "      <td>False</td>\n",
       "      <td>False</td>\n",
       "      <td>False</td>\n",
       "    </tr>\n",
       "    <tr>\n",
       "      <th>6</th>\n",
       "      <td>False</td>\n",
       "      <td>False</td>\n",
       "      <td>False</td>\n",
       "      <td>False</td>\n",
       "      <td>False</td>\n",
       "      <td>False</td>\n",
       "      <td>False</td>\n",
       "      <td>False</td>\n",
       "      <td>False</td>\n",
       "      <td>False</td>\n",
       "      <td>False</td>\n",
       "      <td>False</td>\n",
       "      <td>False</td>\n",
       "      <td>False</td>\n",
       "      <td>False</td>\n",
       "      <td>False</td>\n",
       "    </tr>\n",
       "    <tr>\n",
       "      <th>7</th>\n",
       "      <td>False</td>\n",
       "      <td>False</td>\n",
       "      <td>False</td>\n",
       "      <td>False</td>\n",
       "      <td>False</td>\n",
       "      <td>False</td>\n",
       "      <td>False</td>\n",
       "      <td>False</td>\n",
       "      <td>False</td>\n",
       "      <td>False</td>\n",
       "      <td>False</td>\n",
       "      <td>False</td>\n",
       "      <td>False</td>\n",
       "      <td>False</td>\n",
       "      <td>False</td>\n",
       "      <td>False</td>\n",
       "    </tr>\n",
       "    <tr>\n",
       "      <th>8</th>\n",
       "      <td>False</td>\n",
       "      <td>False</td>\n",
       "      <td>False</td>\n",
       "      <td>False</td>\n",
       "      <td>False</td>\n",
       "      <td>False</td>\n",
       "      <td>False</td>\n",
       "      <td>False</td>\n",
       "      <td>False</td>\n",
       "      <td>False</td>\n",
       "      <td>False</td>\n",
       "      <td>False</td>\n",
       "      <td>False</td>\n",
       "      <td>False</td>\n",
       "      <td>False</td>\n",
       "      <td>False</td>\n",
       "    </tr>\n",
       "    <tr>\n",
       "      <th>9</th>\n",
       "      <td>False</td>\n",
       "      <td>False</td>\n",
       "      <td>False</td>\n",
       "      <td>False</td>\n",
       "      <td>False</td>\n",
       "      <td>False</td>\n",
       "      <td>False</td>\n",
       "      <td>False</td>\n",
       "      <td>False</td>\n",
       "      <td>False</td>\n",
       "      <td>False</td>\n",
       "      <td>False</td>\n",
       "      <td>False</td>\n",
       "      <td>False</td>\n",
       "      <td>False</td>\n",
       "      <td>False</td>\n",
       "    </tr>\n",
       "  </tbody>\n",
       "</table>\n",
       "</div>"
      ],
      "text/plain": [
       "   Transaction  Purchase Date  Customer ID  Gender  Marital Status  Homeowner  \\\n",
       "0        False          False        False   False           False      False   \n",
       "1        False          False        False   False           False      False   \n",
       "2        False          False        False   False           False      False   \n",
       "3        False          False        False   False           False      False   \n",
       "4        False          False        False   False           False      False   \n",
       "5        False          False        False   False           False      False   \n",
       "6        False          False        False   False           False      False   \n",
       "7        False          False        False   False           False      False   \n",
       "8        False          False        False   False           False      False   \n",
       "9        False          False        False   False           False      False   \n",
       "\n",
       "   Children  Annual Income $   City  State or Province  Country  \\\n",
       "0     False            False  False              False    False   \n",
       "1     False            False  False              False    False   \n",
       "2     False            False  False              False    False   \n",
       "3     False            False  False              False    False   \n",
       "4     False            False  False              False    False   \n",
       "5     False            False  False              False    False   \n",
       "6     False            False  False              False    False   \n",
       "7     False            False  False              False    False   \n",
       "8     False            False  False              False    False   \n",
       "9     False            False  False              False    False   \n",
       "\n",
       "   Product Family  Product Department  Product Category  Units Sold  Revenue  \n",
       "0           False               False             False       False    False  \n",
       "1           False               False             False       False    False  \n",
       "2           False               False             False       False    False  \n",
       "3           False               False             False       False    False  \n",
       "4           False               False             False       False    False  \n",
       "5           False               False             False       False    False  \n",
       "6           False               False             False       False    False  \n",
       "7           False               False             False       False    False  \n",
       "8           False               False             False       False    False  \n",
       "9           False               False             False       False    False  "
      ]
     },
     "execution_count": 15,
     "metadata": {},
     "output_type": "execute_result"
    }
   ],
   "source": [
    "nu=data.isnull()\n",
    "nu.head(10)"
   ]
  },
  {
   "cell_type": "markdown",
   "metadata": {},
   "source": [
    "The method od is.null() is not useful when we have large amount of data. So using isna().sum() we can get column wise null values."
   ]
  },
  {
   "cell_type": "code",
   "execution_count": 16,
   "metadata": {},
   "outputs": [
    {
     "data": {
      "text/plain": [
       "Transaction           0\n",
       "Purchase Date         0\n",
       "Customer ID           0\n",
       "Gender                0\n",
       "Marital Status        0\n",
       "Homeowner             0\n",
       "Children              0\n",
       "Annual Income $       0\n",
       "City                  0\n",
       "State or Province     0\n",
       "Country               0\n",
       "Product Family        0\n",
       "Product Department    0\n",
       "Product Category      0\n",
       "Units Sold            0\n",
       "Revenue               0\n",
       "dtype: int64"
      ]
     },
     "execution_count": 16,
     "metadata": {},
     "output_type": "execute_result"
    }
   ],
   "source": [
    "data.isna().sum()"
   ]
  },
  {
   "cell_type": "markdown",
   "metadata": {},
   "source": [
    "Sampling"
   ]
  },
  {
   "cell_type": "markdown",
   "metadata": {},
   "source": [
    "Head tail are used to check only the rows from beginning and end. If we check only those then there is a possibility of bias in other values. So it is very important to have a look at sample which is taken randomly from the dataset."
   ]
  },
  {
   "cell_type": "code",
   "execution_count": 17,
   "metadata": {},
   "outputs": [
    {
     "data": {
      "text/html": [
       "<div>\n",
       "<style scoped>\n",
       "    .dataframe tbody tr th:only-of-type {\n",
       "        vertical-align: middle;\n",
       "    }\n",
       "\n",
       "    .dataframe tbody tr th {\n",
       "        vertical-align: top;\n",
       "    }\n",
       "\n",
       "    .dataframe thead th {\n",
       "        text-align: right;\n",
       "    }\n",
       "</style>\n",
       "<table border=\"1\" class=\"dataframe\">\n",
       "  <thead>\n",
       "    <tr style=\"text-align: right;\">\n",
       "      <th></th>\n",
       "      <th>Transaction</th>\n",
       "      <th>Purchase Date</th>\n",
       "      <th>Customer ID</th>\n",
       "      <th>Gender</th>\n",
       "      <th>Marital Status</th>\n",
       "      <th>Homeowner</th>\n",
       "      <th>Children</th>\n",
       "      <th>Annual Income $</th>\n",
       "      <th>City</th>\n",
       "      <th>State or Province</th>\n",
       "      <th>Country</th>\n",
       "      <th>Product Family</th>\n",
       "      <th>Product Department</th>\n",
       "      <th>Product Category</th>\n",
       "      <th>Units Sold</th>\n",
       "      <th>Revenue</th>\n",
       "    </tr>\n",
       "  </thead>\n",
       "  <tbody>\n",
       "    <tr>\n",
       "      <th>11614</th>\n",
       "      <td>11615</td>\n",
       "      <td>14-09-2013</td>\n",
       "      <td>7269</td>\n",
       "      <td>F</td>\n",
       "      <td>M</td>\n",
       "      <td>Y</td>\n",
       "      <td>5</td>\n",
       "      <td>$30K - $50K</td>\n",
       "      <td>Salem</td>\n",
       "      <td>OR</td>\n",
       "      <td>USA</td>\n",
       "      <td>Food</td>\n",
       "      <td>Baked Goods</td>\n",
       "      <td>Bread</td>\n",
       "      <td>5</td>\n",
       "      <td>$4.68</td>\n",
       "    </tr>\n",
       "    <tr>\n",
       "      <th>8108</th>\n",
       "      <td>8109</td>\n",
       "      <td>07-05-2013</td>\n",
       "      <td>2998</td>\n",
       "      <td>M</td>\n",
       "      <td>M</td>\n",
       "      <td>Y</td>\n",
       "      <td>4</td>\n",
       "      <td>$130K - $150K</td>\n",
       "      <td>Merida</td>\n",
       "      <td>Yucatan</td>\n",
       "      <td>Mexico</td>\n",
       "      <td>Food</td>\n",
       "      <td>Deli</td>\n",
       "      <td>Side Dishes</td>\n",
       "      <td>6</td>\n",
       "      <td>$11.71</td>\n",
       "    </tr>\n",
       "    <tr>\n",
       "      <th>5779</th>\n",
       "      <td>5780</td>\n",
       "      <td>10-02-2013</td>\n",
       "      <td>6982</td>\n",
       "      <td>M</td>\n",
       "      <td>M</td>\n",
       "      <td>Y</td>\n",
       "      <td>1</td>\n",
       "      <td>$70K - $90K</td>\n",
       "      <td>Salem</td>\n",
       "      <td>OR</td>\n",
       "      <td>USA</td>\n",
       "      <td>Drink</td>\n",
       "      <td>Alcoholic Beverages</td>\n",
       "      <td>Beer and Wine</td>\n",
       "      <td>5</td>\n",
       "      <td>$13.64</td>\n",
       "    </tr>\n",
       "    <tr>\n",
       "      <th>11843</th>\n",
       "      <td>11844</td>\n",
       "      <td>22-09-2013</td>\n",
       "      <td>4520</td>\n",
       "      <td>F</td>\n",
       "      <td>S</td>\n",
       "      <td>Y</td>\n",
       "      <td>4</td>\n",
       "      <td>$70K - $90K</td>\n",
       "      <td>Beverly Hills</td>\n",
       "      <td>CA</td>\n",
       "      <td>USA</td>\n",
       "      <td>Food</td>\n",
       "      <td>Baked Goods</td>\n",
       "      <td>Bread</td>\n",
       "      <td>5</td>\n",
       "      <td>$2.54</td>\n",
       "    </tr>\n",
       "    <tr>\n",
       "      <th>2534</th>\n",
       "      <td>2535</td>\n",
       "      <td>21-07-2012</td>\n",
       "      <td>2377</td>\n",
       "      <td>M</td>\n",
       "      <td>M</td>\n",
       "      <td>Y</td>\n",
       "      <td>0</td>\n",
       "      <td>$30K - $50K</td>\n",
       "      <td>Los Angeles</td>\n",
       "      <td>CA</td>\n",
       "      <td>USA</td>\n",
       "      <td>Food</td>\n",
       "      <td>Snacks</td>\n",
       "      <td>Candy</td>\n",
       "      <td>5</td>\n",
       "      <td>$16.12</td>\n",
       "    </tr>\n",
       "  </tbody>\n",
       "</table>\n",
       "</div>"
      ],
      "text/plain": [
       "       Transaction Purchase Date  Customer ID Gender Marital Status Homeowner  \\\n",
       "11614        11615    14-09-2013         7269      F              M         Y   \n",
       "8108          8109    07-05-2013         2998      M              M         Y   \n",
       "5779          5780    10-02-2013         6982      M              M         Y   \n",
       "11843        11844    22-09-2013         4520      F              S         Y   \n",
       "2534          2535    21-07-2012         2377      M              M         Y   \n",
       "\n",
       "       Children Annual Income $           City State or Province Country  \\\n",
       "11614         5     $30K - $50K          Salem                OR     USA   \n",
       "8108          4   $130K - $150K         Merida           Yucatan  Mexico   \n",
       "5779          1     $70K - $90K          Salem                OR     USA   \n",
       "11843         4     $70K - $90K  Beverly Hills                CA     USA   \n",
       "2534          0     $30K - $50K    Los Angeles                CA     USA   \n",
       "\n",
       "      Product Family   Product Department Product Category  Units Sold Revenue  \n",
       "11614           Food          Baked Goods            Bread           5   $4.68  \n",
       "8108            Food                 Deli      Side Dishes           6  $11.71  \n",
       "5779           Drink  Alcoholic Beverages    Beer and Wine           5  $13.64  \n",
       "11843           Food          Baked Goods            Bread           5   $2.54  \n",
       "2534            Food               Snacks            Candy           5  $16.12  "
      ]
     },
     "execution_count": 17,
     "metadata": {},
     "output_type": "execute_result"
    }
   ],
   "source": [
    "data.sample(5)"
   ]
  },
  {
   "cell_type": "markdown",
   "metadata": {},
   "source": [
    " "
   ]
  },
  {
   "cell_type": "code",
   "execution_count": 18,
   "metadata": {},
   "outputs": [],
   "source": [
    "data1=pd.DataFrame(data)"
   ]
  },
  {
   "cell_type": "code",
   "execution_count": 19,
   "metadata": {},
   "outputs": [
    {
     "data": {
      "text/html": [
       "<div>\n",
       "<style scoped>\n",
       "    .dataframe tbody tr th:only-of-type {\n",
       "        vertical-align: middle;\n",
       "    }\n",
       "\n",
       "    .dataframe tbody tr th {\n",
       "        vertical-align: top;\n",
       "    }\n",
       "\n",
       "    .dataframe thead th {\n",
       "        text-align: right;\n",
       "    }\n",
       "</style>\n",
       "<table border=\"1\" class=\"dataframe\">\n",
       "  <thead>\n",
       "    <tr style=\"text-align: right;\">\n",
       "      <th></th>\n",
       "      <th>Transaction</th>\n",
       "      <th>Purchase Date</th>\n",
       "      <th>Customer ID</th>\n",
       "      <th>Gender</th>\n",
       "      <th>Marital Status</th>\n",
       "      <th>Homeowner</th>\n",
       "      <th>Children</th>\n",
       "      <th>Annual Income $</th>\n",
       "      <th>City</th>\n",
       "      <th>State or Province</th>\n",
       "      <th>Country</th>\n",
       "      <th>Product Family</th>\n",
       "      <th>Product Department</th>\n",
       "      <th>Product Category</th>\n",
       "      <th>Units Sold</th>\n",
       "      <th>Revenue</th>\n",
       "    </tr>\n",
       "  </thead>\n",
       "  <tbody>\n",
       "    <tr>\n",
       "      <th>0</th>\n",
       "      <td>1</td>\n",
       "      <td>18-12-2011</td>\n",
       "      <td>7223</td>\n",
       "      <td>F</td>\n",
       "      <td>M</td>\n",
       "      <td>Y</td>\n",
       "      <td>2</td>\n",
       "      <td>$30K - $50K</td>\n",
       "      <td>Los Angeles</td>\n",
       "      <td>CA</td>\n",
       "      <td>USA</td>\n",
       "      <td>Food</td>\n",
       "      <td>Snack Foods</td>\n",
       "      <td>Snack Foods</td>\n",
       "      <td>5</td>\n",
       "      <td>27.38</td>\n",
       "    </tr>\n",
       "    <tr>\n",
       "      <th>1</th>\n",
       "      <td>2</td>\n",
       "      <td>20-12-2011</td>\n",
       "      <td>7841</td>\n",
       "      <td>M</td>\n",
       "      <td>M</td>\n",
       "      <td>Y</td>\n",
       "      <td>5</td>\n",
       "      <td>$70K - $90K</td>\n",
       "      <td>Los Angeles</td>\n",
       "      <td>CA</td>\n",
       "      <td>USA</td>\n",
       "      <td>Food</td>\n",
       "      <td>Produce</td>\n",
       "      <td>Vegetables</td>\n",
       "      <td>5</td>\n",
       "      <td>14.90</td>\n",
       "    </tr>\n",
       "    <tr>\n",
       "      <th>2</th>\n",
       "      <td>3</td>\n",
       "      <td>21-12-2011</td>\n",
       "      <td>8374</td>\n",
       "      <td>F</td>\n",
       "      <td>M</td>\n",
       "      <td>N</td>\n",
       "      <td>2</td>\n",
       "      <td>$50K - $70K</td>\n",
       "      <td>Bremerton</td>\n",
       "      <td>WA</td>\n",
       "      <td>USA</td>\n",
       "      <td>Food</td>\n",
       "      <td>Snack Foods</td>\n",
       "      <td>Snack Foods</td>\n",
       "      <td>3</td>\n",
       "      <td>5.52</td>\n",
       "    </tr>\n",
       "    <tr>\n",
       "      <th>3</th>\n",
       "      <td>4</td>\n",
       "      <td>21-12-2011</td>\n",
       "      <td>9619</td>\n",
       "      <td>M</td>\n",
       "      <td>M</td>\n",
       "      <td>Y</td>\n",
       "      <td>3</td>\n",
       "      <td>$30K - $50K</td>\n",
       "      <td>Portland</td>\n",
       "      <td>OR</td>\n",
       "      <td>USA</td>\n",
       "      <td>Food</td>\n",
       "      <td>Snacks</td>\n",
       "      <td>Candy</td>\n",
       "      <td>4</td>\n",
       "      <td>4.44</td>\n",
       "    </tr>\n",
       "    <tr>\n",
       "      <th>4</th>\n",
       "      <td>5</td>\n",
       "      <td>22-12-2011</td>\n",
       "      <td>1900</td>\n",
       "      <td>F</td>\n",
       "      <td>S</td>\n",
       "      <td>Y</td>\n",
       "      <td>3</td>\n",
       "      <td>$130K - $150K</td>\n",
       "      <td>Beverly Hills</td>\n",
       "      <td>CA</td>\n",
       "      <td>USA</td>\n",
       "      <td>Drink</td>\n",
       "      <td>Beverages</td>\n",
       "      <td>Carbonated Beverages</td>\n",
       "      <td>4</td>\n",
       "      <td>14.00</td>\n",
       "    </tr>\n",
       "  </tbody>\n",
       "</table>\n",
       "</div>"
      ],
      "text/plain": [
       "   Transaction Purchase Date  Customer ID Gender Marital Status Homeowner  \\\n",
       "0            1    18-12-2011         7223      F              M         Y   \n",
       "1            2    20-12-2011         7841      M              M         Y   \n",
       "2            3    21-12-2011         8374      F              M         N   \n",
       "3            4    21-12-2011         9619      M              M         Y   \n",
       "4            5    22-12-2011         1900      F              S         Y   \n",
       "\n",
       "   Children Annual Income $           City State or Province Country  \\\n",
       "0         2     $30K - $50K    Los Angeles                CA     USA   \n",
       "1         5     $70K - $90K    Los Angeles                CA     USA   \n",
       "2         2     $50K - $70K      Bremerton                WA     USA   \n",
       "3         3     $30K - $50K       Portland                OR     USA   \n",
       "4         3   $130K - $150K  Beverly Hills                CA     USA   \n",
       "\n",
       "  Product Family Product Department      Product Category  Units Sold Revenue  \n",
       "0           Food        Snack Foods           Snack Foods           5   27.38  \n",
       "1           Food            Produce            Vegetables           5   14.90  \n",
       "2           Food        Snack Foods           Snack Foods           3    5.52  \n",
       "3           Food             Snacks                 Candy           4    4.44  \n",
       "4          Drink          Beverages  Carbonated Beverages           4   14.00  "
      ]
     },
     "execution_count": 19,
     "metadata": {},
     "output_type": "execute_result"
    }
   ],
   "source": [
    "data1['Revenue']=data1['Revenue'].str.replace('$','')\n",
    "data1.head(5)\n",
    "#Replacing the '$' sign in Revenue because the Revenue is taken as an string. It has be in float"
   ]
  },
  {
   "cell_type": "code",
   "execution_count": 20,
   "metadata": {},
   "outputs": [
    {
     "data": {
      "text/plain": [
       "Transaction            int64\n",
       "Purchase Date         object\n",
       "Customer ID            int64\n",
       "Gender                object\n",
       "Marital Status        object\n",
       "Homeowner             object\n",
       "Children               int64\n",
       "Annual Income $       object\n",
       "City                  object\n",
       "State or Province     object\n",
       "Country               object\n",
       "Product Family        object\n",
       "Product Department    object\n",
       "Product Category      object\n",
       "Units Sold             int64\n",
       "Revenue               object\n",
       "dtype: object"
      ]
     },
     "execution_count": 20,
     "metadata": {},
     "output_type": "execute_result"
    }
   ],
   "source": [
    "data1.dtypes "
   ]
  },
  {
   "cell_type": "markdown",
   "metadata": {},
   "source": [
    "We replaced the dollar sign, but the datatype of Revenue is still object. So we have to convert it into Float."
   ]
  },
  {
   "cell_type": "code",
   "execution_count": 21,
   "metadata": {},
   "outputs": [],
   "source": [
    "data[\"Revenue\"]=data[\"Revenue\"].astype(str).astype(float)\n",
    "#Converting the column Revenue from object to float"
   ]
  },
  {
   "cell_type": "code",
   "execution_count": 22,
   "metadata": {},
   "outputs": [
    {
     "data": {
      "text/plain": [
       "Transaction             int64\n",
       "Purchase Date          object\n",
       "Customer ID             int64\n",
       "Gender                 object\n",
       "Marital Status         object\n",
       "Homeowner              object\n",
       "Children                int64\n",
       "Annual Income $        object\n",
       "City                   object\n",
       "State or Province      object\n",
       "Country                object\n",
       "Product Family         object\n",
       "Product Department     object\n",
       "Product Category       object\n",
       "Units Sold              int64\n",
       "Revenue               float64\n",
       "dtype: object"
      ]
     },
     "execution_count": 22,
     "metadata": {},
     "output_type": "execute_result"
    }
   ],
   "source": [
    "data1.dtypes"
   ]
  },
  {
   "cell_type": "code",
   "execution_count": 23,
   "metadata": {},
   "outputs": [],
   "source": [
    "#Removing the column Transaction as it is useless\n",
    "data1=data1.drop(['Transaction'],axis=1)"
   ]
  },
  {
   "cell_type": "code",
   "execution_count": 24,
   "metadata": {},
   "outputs": [],
   "source": [
    "import datetime"
   ]
  },
  {
   "cell_type": "markdown",
   "metadata": {},
   "source": [
    "Creating a new column called \"Year_of_Purchase\" from \"Purchased Date\" column for better and easy understanding of visualizations"
   ]
  },
  {
   "cell_type": "code",
   "execution_count": 26,
   "metadata": {},
   "outputs": [],
   "source": [
    "data1['Year_of_Purchase'] = pd.DatetimeIndex(data1['Purchase Date']).year"
   ]
  },
  {
   "cell_type": "code",
   "execution_count": 28,
   "metadata": {},
   "outputs": [
    {
     "data": {
      "text/html": [
       "<div>\n",
       "<style scoped>\n",
       "    .dataframe tbody tr th:only-of-type {\n",
       "        vertical-align: middle;\n",
       "    }\n",
       "\n",
       "    .dataframe tbody tr th {\n",
       "        vertical-align: top;\n",
       "    }\n",
       "\n",
       "    .dataframe thead th {\n",
       "        text-align: right;\n",
       "    }\n",
       "</style>\n",
       "<table border=\"1\" class=\"dataframe\">\n",
       "  <thead>\n",
       "    <tr style=\"text-align: right;\">\n",
       "      <th></th>\n",
       "      <th>Purchase Date</th>\n",
       "      <th>Customer ID</th>\n",
       "      <th>Gender</th>\n",
       "      <th>Marital Status</th>\n",
       "      <th>Homeowner</th>\n",
       "      <th>Children</th>\n",
       "      <th>Annual Income $</th>\n",
       "      <th>City</th>\n",
       "      <th>State or Province</th>\n",
       "      <th>Country</th>\n",
       "      <th>Product Family</th>\n",
       "      <th>Product Department</th>\n",
       "      <th>Product Category</th>\n",
       "      <th>Units Sold</th>\n",
       "      <th>Revenue</th>\n",
       "      <th>Year_of_Purchase</th>\n",
       "    </tr>\n",
       "  </thead>\n",
       "  <tbody>\n",
       "    <tr>\n",
       "      <th>0</th>\n",
       "      <td>18-12-2011</td>\n",
       "      <td>7223</td>\n",
       "      <td>F</td>\n",
       "      <td>M</td>\n",
       "      <td>Y</td>\n",
       "      <td>2</td>\n",
       "      <td>$30K - $50K</td>\n",
       "      <td>Los Angeles</td>\n",
       "      <td>CA</td>\n",
       "      <td>USA</td>\n",
       "      <td>Food</td>\n",
       "      <td>Snack Foods</td>\n",
       "      <td>Snack Foods</td>\n",
       "      <td>5</td>\n",
       "      <td>27.38</td>\n",
       "      <td>2011</td>\n",
       "    </tr>\n",
       "    <tr>\n",
       "      <th>1</th>\n",
       "      <td>20-12-2011</td>\n",
       "      <td>7841</td>\n",
       "      <td>M</td>\n",
       "      <td>M</td>\n",
       "      <td>Y</td>\n",
       "      <td>5</td>\n",
       "      <td>$70K - $90K</td>\n",
       "      <td>Los Angeles</td>\n",
       "      <td>CA</td>\n",
       "      <td>USA</td>\n",
       "      <td>Food</td>\n",
       "      <td>Produce</td>\n",
       "      <td>Vegetables</td>\n",
       "      <td>5</td>\n",
       "      <td>14.90</td>\n",
       "      <td>2011</td>\n",
       "    </tr>\n",
       "    <tr>\n",
       "      <th>2</th>\n",
       "      <td>21-12-2011</td>\n",
       "      <td>8374</td>\n",
       "      <td>F</td>\n",
       "      <td>M</td>\n",
       "      <td>N</td>\n",
       "      <td>2</td>\n",
       "      <td>$50K - $70K</td>\n",
       "      <td>Bremerton</td>\n",
       "      <td>WA</td>\n",
       "      <td>USA</td>\n",
       "      <td>Food</td>\n",
       "      <td>Snack Foods</td>\n",
       "      <td>Snack Foods</td>\n",
       "      <td>3</td>\n",
       "      <td>5.52</td>\n",
       "      <td>2011</td>\n",
       "    </tr>\n",
       "    <tr>\n",
       "      <th>3</th>\n",
       "      <td>21-12-2011</td>\n",
       "      <td>9619</td>\n",
       "      <td>M</td>\n",
       "      <td>M</td>\n",
       "      <td>Y</td>\n",
       "      <td>3</td>\n",
       "      <td>$30K - $50K</td>\n",
       "      <td>Portland</td>\n",
       "      <td>OR</td>\n",
       "      <td>USA</td>\n",
       "      <td>Food</td>\n",
       "      <td>Snacks</td>\n",
       "      <td>Candy</td>\n",
       "      <td>4</td>\n",
       "      <td>4.44</td>\n",
       "      <td>2011</td>\n",
       "    </tr>\n",
       "    <tr>\n",
       "      <th>4</th>\n",
       "      <td>22-12-2011</td>\n",
       "      <td>1900</td>\n",
       "      <td>F</td>\n",
       "      <td>S</td>\n",
       "      <td>Y</td>\n",
       "      <td>3</td>\n",
       "      <td>$130K - $150K</td>\n",
       "      <td>Beverly Hills</td>\n",
       "      <td>CA</td>\n",
       "      <td>USA</td>\n",
       "      <td>Drink</td>\n",
       "      <td>Beverages</td>\n",
       "      <td>Carbonated Beverages</td>\n",
       "      <td>4</td>\n",
       "      <td>14.00</td>\n",
       "      <td>2011</td>\n",
       "    </tr>\n",
       "    <tr>\n",
       "      <th>5</th>\n",
       "      <td>22-12-2011</td>\n",
       "      <td>6696</td>\n",
       "      <td>F</td>\n",
       "      <td>M</td>\n",
       "      <td>Y</td>\n",
       "      <td>3</td>\n",
       "      <td>$10K - $30K</td>\n",
       "      <td>Beverly Hills</td>\n",
       "      <td>CA</td>\n",
       "      <td>USA</td>\n",
       "      <td>Food</td>\n",
       "      <td>Deli</td>\n",
       "      <td>Side Dishes</td>\n",
       "      <td>3</td>\n",
       "      <td>4.37</td>\n",
       "      <td>2011</td>\n",
       "    </tr>\n",
       "    <tr>\n",
       "      <th>6</th>\n",
       "      <td>23-12-2011</td>\n",
       "      <td>9673</td>\n",
       "      <td>M</td>\n",
       "      <td>S</td>\n",
       "      <td>Y</td>\n",
       "      <td>2</td>\n",
       "      <td>$30K - $50K</td>\n",
       "      <td>Salem</td>\n",
       "      <td>OR</td>\n",
       "      <td>USA</td>\n",
       "      <td>Food</td>\n",
       "      <td>Frozen Foods</td>\n",
       "      <td>Breakfast Foods</td>\n",
       "      <td>4</td>\n",
       "      <td>13.78</td>\n",
       "      <td>2011</td>\n",
       "    </tr>\n",
       "    <tr>\n",
       "      <th>7</th>\n",
       "      <td>25-12-2011</td>\n",
       "      <td>354</td>\n",
       "      <td>F</td>\n",
       "      <td>M</td>\n",
       "      <td>Y</td>\n",
       "      <td>2</td>\n",
       "      <td>$150K +</td>\n",
       "      <td>Yakima</td>\n",
       "      <td>WA</td>\n",
       "      <td>USA</td>\n",
       "      <td>Food</td>\n",
       "      <td>Canned Foods</td>\n",
       "      <td>Canned Soup</td>\n",
       "      <td>6</td>\n",
       "      <td>7.34</td>\n",
       "      <td>2011</td>\n",
       "    </tr>\n",
       "    <tr>\n",
       "      <th>8</th>\n",
       "      <td>25-12-2011</td>\n",
       "      <td>1293</td>\n",
       "      <td>M</td>\n",
       "      <td>M</td>\n",
       "      <td>Y</td>\n",
       "      <td>3</td>\n",
       "      <td>$10K - $30K</td>\n",
       "      <td>Bellingham</td>\n",
       "      <td>WA</td>\n",
       "      <td>USA</td>\n",
       "      <td>Non-Consumable</td>\n",
       "      <td>Household</td>\n",
       "      <td>Cleaning Supplies</td>\n",
       "      <td>1</td>\n",
       "      <td>2.41</td>\n",
       "      <td>2011</td>\n",
       "    </tr>\n",
       "    <tr>\n",
       "      <th>9</th>\n",
       "      <td>25-12-2011</td>\n",
       "      <td>7938</td>\n",
       "      <td>M</td>\n",
       "      <td>S</td>\n",
       "      <td>N</td>\n",
       "      <td>1</td>\n",
       "      <td>$50K - $70K</td>\n",
       "      <td>San Diego</td>\n",
       "      <td>CA</td>\n",
       "      <td>USA</td>\n",
       "      <td>Non-Consumable</td>\n",
       "      <td>Health and Hygiene</td>\n",
       "      <td>Pain Relievers</td>\n",
       "      <td>2</td>\n",
       "      <td>8.96</td>\n",
       "      <td>2011</td>\n",
       "    </tr>\n",
       "  </tbody>\n",
       "</table>\n",
       "</div>"
      ],
      "text/plain": [
       "  Purchase Date  Customer ID Gender Marital Status Homeowner  Children  \\\n",
       "0    18-12-2011         7223      F              M         Y         2   \n",
       "1    20-12-2011         7841      M              M         Y         5   \n",
       "2    21-12-2011         8374      F              M         N         2   \n",
       "3    21-12-2011         9619      M              M         Y         3   \n",
       "4    22-12-2011         1900      F              S         Y         3   \n",
       "5    22-12-2011         6696      F              M         Y         3   \n",
       "6    23-12-2011         9673      M              S         Y         2   \n",
       "7    25-12-2011          354      F              M         Y         2   \n",
       "8    25-12-2011         1293      M              M         Y         3   \n",
       "9    25-12-2011         7938      M              S         N         1   \n",
       "\n",
       "  Annual Income $           City State or Province Country  Product Family  \\\n",
       "0     $30K - $50K    Los Angeles                CA     USA            Food   \n",
       "1     $70K - $90K    Los Angeles                CA     USA            Food   \n",
       "2     $50K - $70K      Bremerton                WA     USA            Food   \n",
       "3     $30K - $50K       Portland                OR     USA            Food   \n",
       "4   $130K - $150K  Beverly Hills                CA     USA           Drink   \n",
       "5     $10K - $30K  Beverly Hills                CA     USA            Food   \n",
       "6     $30K - $50K          Salem                OR     USA            Food   \n",
       "7         $150K +         Yakima                WA     USA            Food   \n",
       "8     $10K - $30K     Bellingham                WA     USA  Non-Consumable   \n",
       "9     $50K - $70K      San Diego                CA     USA  Non-Consumable   \n",
       "\n",
       "   Product Department      Product Category  Units Sold  Revenue  \\\n",
       "0         Snack Foods           Snack Foods           5    27.38   \n",
       "1             Produce            Vegetables           5    14.90   \n",
       "2         Snack Foods           Snack Foods           3     5.52   \n",
       "3              Snacks                 Candy           4     4.44   \n",
       "4           Beverages  Carbonated Beverages           4    14.00   \n",
       "5                Deli           Side Dishes           3     4.37   \n",
       "6        Frozen Foods       Breakfast Foods           4    13.78   \n",
       "7        Canned Foods           Canned Soup           6     7.34   \n",
       "8           Household     Cleaning Supplies           1     2.41   \n",
       "9  Health and Hygiene        Pain Relievers           2     8.96   \n",
       "\n",
       "   Year_of_Purchase  \n",
       "0              2011  \n",
       "1              2011  \n",
       "2              2011  \n",
       "3              2011  \n",
       "4              2011  \n",
       "5              2011  \n",
       "6              2011  \n",
       "7              2011  \n",
       "8              2011  \n",
       "9              2011  "
      ]
     },
     "execution_count": 28,
     "metadata": {},
     "output_type": "execute_result"
    }
   ],
   "source": [
    "#Checking both Removing 'Transaction' column and creating new column 'Year of purchase' from \"Purchased Date\" Column\n",
    "data1.head(10)"
   ]
  },
  {
   "cell_type": "markdown",
   "metadata": {},
   "source": [
    "Here, I am not finding and removing the outliers. Because outliers is mostly removed if we are building a model using the data.\n",
    "For Exploratory Data Analysis, outliers need not be removed."
   ]
  },
  {
   "cell_type": "markdown",
   "metadata": {},
   "source": [
    "Numpy"
   ]
  },
  {
   "cell_type": "markdown",
   "metadata": {},
   "source": [
    "Numpy can be used over lists because numpy consumes less memory and it is fast as compared to the Lists."
   ]
  },
  {
   "cell_type": "markdown",
   "metadata": {},
   "source": [
    "Correlation"
   ]
  },
  {
   "cell_type": "markdown",
   "metadata": {},
   "source": [
    "Correlation is a measure of the linear relationship between two quantitative variables. It is only applicable for quantitative variables in the dataset."
   ]
  },
  {
   "cell_type": "code",
   "execution_count": 34,
   "metadata": {},
   "outputs": [
    {
     "data": {
      "text/html": [
       "<div>\n",
       "<style scoped>\n",
       "    .dataframe tbody tr th:only-of-type {\n",
       "        vertical-align: middle;\n",
       "    }\n",
       "\n",
       "    .dataframe tbody tr th {\n",
       "        vertical-align: top;\n",
       "    }\n",
       "\n",
       "    .dataframe thead th {\n",
       "        text-align: right;\n",
       "    }\n",
       "</style>\n",
       "<table border=\"1\" class=\"dataframe\">\n",
       "  <thead>\n",
       "    <tr style=\"text-align: right;\">\n",
       "      <th></th>\n",
       "      <th>Customer ID</th>\n",
       "      <th>Children</th>\n",
       "      <th>Units Sold</th>\n",
       "      <th>Revenue</th>\n",
       "      <th>Year_of_Purchase</th>\n",
       "    </tr>\n",
       "  </thead>\n",
       "  <tbody>\n",
       "    <tr>\n",
       "      <th>Customer ID</th>\n",
       "      <td>1.000000</td>\n",
       "      <td>0.013085</td>\n",
       "      <td>0.003021</td>\n",
       "      <td>-0.004844</td>\n",
       "      <td>-0.008471</td>\n",
       "    </tr>\n",
       "    <tr>\n",
       "      <th>Children</th>\n",
       "      <td>0.013085</td>\n",
       "      <td>1.000000</td>\n",
       "      <td>0.123348</td>\n",
       "      <td>0.069454</td>\n",
       "      <td>0.005427</td>\n",
       "    </tr>\n",
       "    <tr>\n",
       "      <th>Units Sold</th>\n",
       "      <td>0.003021</td>\n",
       "      <td>0.123348</td>\n",
       "      <td>1.000000</td>\n",
       "      <td>0.299760</td>\n",
       "      <td>0.020476</td>\n",
       "    </tr>\n",
       "    <tr>\n",
       "      <th>Revenue</th>\n",
       "      <td>-0.004844</td>\n",
       "      <td>0.069454</td>\n",
       "      <td>0.299760</td>\n",
       "      <td>1.000000</td>\n",
       "      <td>0.010857</td>\n",
       "    </tr>\n",
       "    <tr>\n",
       "      <th>Year_of_Purchase</th>\n",
       "      <td>-0.008471</td>\n",
       "      <td>0.005427</td>\n",
       "      <td>0.020476</td>\n",
       "      <td>0.010857</td>\n",
       "      <td>1.000000</td>\n",
       "    </tr>\n",
       "  </tbody>\n",
       "</table>\n",
       "</div>"
      ],
      "text/plain": [
       "                  Customer ID  Children  Units Sold   Revenue  \\\n",
       "Customer ID          1.000000  0.013085    0.003021 -0.004844   \n",
       "Children             0.013085  1.000000    0.123348  0.069454   \n",
       "Units Sold           0.003021  0.123348    1.000000  0.299760   \n",
       "Revenue             -0.004844  0.069454    0.299760  1.000000   \n",
       "Year_of_Purchase    -0.008471  0.005427    0.020476  0.010857   \n",
       "\n",
       "                  Year_of_Purchase  \n",
       "Customer ID              -0.008471  \n",
       "Children                  0.005427  \n",
       "Units Sold                0.020476  \n",
       "Revenue                   0.010857  \n",
       "Year_of_Purchase          1.000000  "
      ]
     },
     "execution_count": 34,
     "metadata": {},
     "output_type": "execute_result"
    }
   ],
   "source": [
    "data1.corr()"
   ]
  },
  {
   "cell_type": "markdown",
   "metadata": {},
   "source": [
    "Feature Engineering"
   ]
  },
  {
   "cell_type": "markdown",
   "metadata": {},
   "source": [
    "Feature Engineering will allow you to most accurately represent the underlying structure of the data and therefore create the best model and it helps in improving the performace of ML models."
   ]
  },
  {
   "cell_type": "markdown",
   "metadata": {},
   "source": [
    "In somealgorithms like k means clustering we cannot have categorical variables, so we have to encode them to numeric variables using the Factorize feature. Encode categorical variable gender into numerical (0,1) with factorize()"
   ]
  },
  {
   "cell_type": "code",
   "execution_count": 35,
   "metadata": {},
   "outputs": [
    {
     "data": {
      "text/html": [
       "<div>\n",
       "<style scoped>\n",
       "    .dataframe tbody tr th:only-of-type {\n",
       "        vertical-align: middle;\n",
       "    }\n",
       "\n",
       "    .dataframe tbody tr th {\n",
       "        vertical-align: top;\n",
       "    }\n",
       "\n",
       "    .dataframe thead th {\n",
       "        text-align: right;\n",
       "    }\n",
       "</style>\n",
       "<table border=\"1\" class=\"dataframe\">\n",
       "  <thead>\n",
       "    <tr style=\"text-align: right;\">\n",
       "      <th></th>\n",
       "      <th>Transaction</th>\n",
       "      <th>Purchase Date</th>\n",
       "      <th>Customer ID</th>\n",
       "      <th>Gender</th>\n",
       "      <th>Marital Status</th>\n",
       "      <th>Homeowner</th>\n",
       "      <th>Children</th>\n",
       "      <th>Annual Income $</th>\n",
       "      <th>City</th>\n",
       "      <th>State or Province</th>\n",
       "      <th>Country</th>\n",
       "      <th>Product Family</th>\n",
       "      <th>Product Department</th>\n",
       "      <th>Product Category</th>\n",
       "      <th>Units Sold</th>\n",
       "      <th>Revenue</th>\n",
       "    </tr>\n",
       "  </thead>\n",
       "  <tbody>\n",
       "    <tr>\n",
       "      <th>0</th>\n",
       "      <td>1</td>\n",
       "      <td>18-12-2011</td>\n",
       "      <td>7223</td>\n",
       "      <td>0</td>\n",
       "      <td>M</td>\n",
       "      <td>Y</td>\n",
       "      <td>2</td>\n",
       "      <td>$30K - $50K</td>\n",
       "      <td>Los Angeles</td>\n",
       "      <td>CA</td>\n",
       "      <td>USA</td>\n",
       "      <td>Food</td>\n",
       "      <td>Snack Foods</td>\n",
       "      <td>Snack Foods</td>\n",
       "      <td>5</td>\n",
       "      <td>27.38</td>\n",
       "    </tr>\n",
       "    <tr>\n",
       "      <th>1</th>\n",
       "      <td>2</td>\n",
       "      <td>20-12-2011</td>\n",
       "      <td>7841</td>\n",
       "      <td>1</td>\n",
       "      <td>M</td>\n",
       "      <td>Y</td>\n",
       "      <td>5</td>\n",
       "      <td>$70K - $90K</td>\n",
       "      <td>Los Angeles</td>\n",
       "      <td>CA</td>\n",
       "      <td>USA</td>\n",
       "      <td>Food</td>\n",
       "      <td>Produce</td>\n",
       "      <td>Vegetables</td>\n",
       "      <td>5</td>\n",
       "      <td>14.90</td>\n",
       "    </tr>\n",
       "    <tr>\n",
       "      <th>2</th>\n",
       "      <td>3</td>\n",
       "      <td>21-12-2011</td>\n",
       "      <td>8374</td>\n",
       "      <td>0</td>\n",
       "      <td>M</td>\n",
       "      <td>N</td>\n",
       "      <td>2</td>\n",
       "      <td>$50K - $70K</td>\n",
       "      <td>Bremerton</td>\n",
       "      <td>WA</td>\n",
       "      <td>USA</td>\n",
       "      <td>Food</td>\n",
       "      <td>Snack Foods</td>\n",
       "      <td>Snack Foods</td>\n",
       "      <td>3</td>\n",
       "      <td>5.52</td>\n",
       "    </tr>\n",
       "    <tr>\n",
       "      <th>3</th>\n",
       "      <td>4</td>\n",
       "      <td>21-12-2011</td>\n",
       "      <td>9619</td>\n",
       "      <td>1</td>\n",
       "      <td>M</td>\n",
       "      <td>Y</td>\n",
       "      <td>3</td>\n",
       "      <td>$30K - $50K</td>\n",
       "      <td>Portland</td>\n",
       "      <td>OR</td>\n",
       "      <td>USA</td>\n",
       "      <td>Food</td>\n",
       "      <td>Snacks</td>\n",
       "      <td>Candy</td>\n",
       "      <td>4</td>\n",
       "      <td>4.44</td>\n",
       "    </tr>\n",
       "    <tr>\n",
       "      <th>4</th>\n",
       "      <td>5</td>\n",
       "      <td>22-12-2011</td>\n",
       "      <td>1900</td>\n",
       "      <td>0</td>\n",
       "      <td>S</td>\n",
       "      <td>Y</td>\n",
       "      <td>3</td>\n",
       "      <td>$130K - $150K</td>\n",
       "      <td>Beverly Hills</td>\n",
       "      <td>CA</td>\n",
       "      <td>USA</td>\n",
       "      <td>Drink</td>\n",
       "      <td>Beverages</td>\n",
       "      <td>Carbonated Beverages</td>\n",
       "      <td>4</td>\n",
       "      <td>14.00</td>\n",
       "    </tr>\n",
       "    <tr>\n",
       "      <th>5</th>\n",
       "      <td>6</td>\n",
       "      <td>22-12-2011</td>\n",
       "      <td>6696</td>\n",
       "      <td>0</td>\n",
       "      <td>M</td>\n",
       "      <td>Y</td>\n",
       "      <td>3</td>\n",
       "      <td>$10K - $30K</td>\n",
       "      <td>Beverly Hills</td>\n",
       "      <td>CA</td>\n",
       "      <td>USA</td>\n",
       "      <td>Food</td>\n",
       "      <td>Deli</td>\n",
       "      <td>Side Dishes</td>\n",
       "      <td>3</td>\n",
       "      <td>4.37</td>\n",
       "    </tr>\n",
       "    <tr>\n",
       "      <th>6</th>\n",
       "      <td>7</td>\n",
       "      <td>23-12-2011</td>\n",
       "      <td>9673</td>\n",
       "      <td>1</td>\n",
       "      <td>S</td>\n",
       "      <td>Y</td>\n",
       "      <td>2</td>\n",
       "      <td>$30K - $50K</td>\n",
       "      <td>Salem</td>\n",
       "      <td>OR</td>\n",
       "      <td>USA</td>\n",
       "      <td>Food</td>\n",
       "      <td>Frozen Foods</td>\n",
       "      <td>Breakfast Foods</td>\n",
       "      <td>4</td>\n",
       "      <td>13.78</td>\n",
       "    </tr>\n",
       "    <tr>\n",
       "      <th>7</th>\n",
       "      <td>8</td>\n",
       "      <td>25-12-2011</td>\n",
       "      <td>354</td>\n",
       "      <td>0</td>\n",
       "      <td>M</td>\n",
       "      <td>Y</td>\n",
       "      <td>2</td>\n",
       "      <td>$150K +</td>\n",
       "      <td>Yakima</td>\n",
       "      <td>WA</td>\n",
       "      <td>USA</td>\n",
       "      <td>Food</td>\n",
       "      <td>Canned Foods</td>\n",
       "      <td>Canned Soup</td>\n",
       "      <td>6</td>\n",
       "      <td>7.34</td>\n",
       "    </tr>\n",
       "    <tr>\n",
       "      <th>8</th>\n",
       "      <td>9</td>\n",
       "      <td>25-12-2011</td>\n",
       "      <td>1293</td>\n",
       "      <td>1</td>\n",
       "      <td>M</td>\n",
       "      <td>Y</td>\n",
       "      <td>3</td>\n",
       "      <td>$10K - $30K</td>\n",
       "      <td>Bellingham</td>\n",
       "      <td>WA</td>\n",
       "      <td>USA</td>\n",
       "      <td>Non-Consumable</td>\n",
       "      <td>Household</td>\n",
       "      <td>Cleaning Supplies</td>\n",
       "      <td>1</td>\n",
       "      <td>2.41</td>\n",
       "    </tr>\n",
       "    <tr>\n",
       "      <th>9</th>\n",
       "      <td>10</td>\n",
       "      <td>25-12-2011</td>\n",
       "      <td>7938</td>\n",
       "      <td>1</td>\n",
       "      <td>S</td>\n",
       "      <td>N</td>\n",
       "      <td>1</td>\n",
       "      <td>$50K - $70K</td>\n",
       "      <td>San Diego</td>\n",
       "      <td>CA</td>\n",
       "      <td>USA</td>\n",
       "      <td>Non-Consumable</td>\n",
       "      <td>Health and Hygiene</td>\n",
       "      <td>Pain Relievers</td>\n",
       "      <td>2</td>\n",
       "      <td>8.96</td>\n",
       "    </tr>\n",
       "  </tbody>\n",
       "</table>\n",
       "</div>"
      ],
      "text/plain": [
       "   Transaction Purchase Date  Customer ID  Gender Marital Status Homeowner  \\\n",
       "0            1    18-12-2011         7223       0              M         Y   \n",
       "1            2    20-12-2011         7841       1              M         Y   \n",
       "2            3    21-12-2011         8374       0              M         N   \n",
       "3            4    21-12-2011         9619       1              M         Y   \n",
       "4            5    22-12-2011         1900       0              S         Y   \n",
       "5            6    22-12-2011         6696       0              M         Y   \n",
       "6            7    23-12-2011         9673       1              S         Y   \n",
       "7            8    25-12-2011          354       0              M         Y   \n",
       "8            9    25-12-2011         1293       1              M         Y   \n",
       "9           10    25-12-2011         7938       1              S         N   \n",
       "\n",
       "   Children Annual Income $           City State or Province Country  \\\n",
       "0         2     $30K - $50K    Los Angeles                CA     USA   \n",
       "1         5     $70K - $90K    Los Angeles                CA     USA   \n",
       "2         2     $50K - $70K      Bremerton                WA     USA   \n",
       "3         3     $30K - $50K       Portland                OR     USA   \n",
       "4         3   $130K - $150K  Beverly Hills                CA     USA   \n",
       "5         3     $10K - $30K  Beverly Hills                CA     USA   \n",
       "6         2     $30K - $50K          Salem                OR     USA   \n",
       "7         2         $150K +         Yakima                WA     USA   \n",
       "8         3     $10K - $30K     Bellingham                WA     USA   \n",
       "9         1     $50K - $70K      San Diego                CA     USA   \n",
       "\n",
       "   Product Family  Product Department      Product Category  Units Sold  \\\n",
       "0            Food         Snack Foods           Snack Foods           5   \n",
       "1            Food             Produce            Vegetables           5   \n",
       "2            Food         Snack Foods           Snack Foods           3   \n",
       "3            Food              Snacks                 Candy           4   \n",
       "4           Drink           Beverages  Carbonated Beverages           4   \n",
       "5            Food                Deli           Side Dishes           3   \n",
       "6            Food        Frozen Foods       Breakfast Foods           4   \n",
       "7            Food        Canned Foods           Canned Soup           6   \n",
       "8  Non-Consumable           Household     Cleaning Supplies           1   \n",
       "9  Non-Consumable  Health and Hygiene        Pain Relievers           2   \n",
       "\n",
       "   Revenue  \n",
       "0    27.38  \n",
       "1    14.90  \n",
       "2     5.52  \n",
       "3     4.44  \n",
       "4    14.00  \n",
       "5     4.37  \n",
       "6    13.78  \n",
       "7     7.34  \n",
       "8     2.41  \n",
       "9     8.96  "
      ]
     },
     "execution_count": 35,
     "metadata": {},
     "output_type": "execute_result"
    }
   ],
   "source": [
    "# Factorize the values \n",
    "labels,levels = pd.factorize(data2.Gender)\n",
    "\n",
    "# Save the encoded variables in `iris.Class`\n",
    "data2.Gender= labels\n",
    "\n",
    "# Print out the first rows\n",
    "data2.head(10)"
   ]
  },
  {
   "cell_type": "markdown",
   "metadata": {},
   "source": [
    "Feature Scaling"
   ]
  },
  {
   "cell_type": "markdown",
   "metadata": {},
   "source": [
    "Feature scaling is a method used to normalize the range of values of the independent variables or features of the data in a dataset. If the range of both the variables is different then there is a chance that higher weightage is given to features with higher value. So we are normalizing it using Normalization technique."
   ]
  },
  {
   "cell_type": "markdown",
   "metadata": {},
   "source": [
    "In this technique, all the values in the variables are scaled between the range 0 and 1. It is also known as Min-Max scaling."
   ]
  },
  {
   "attachments": {
    "image.png": {
     "image/png": "[encoded data removed]"
    }
   },
   "cell_type": "markdown",
   "metadata": {},
   "source": [
    "![image.png](attachment:image.png)"
   ]
  },
  {
   "cell_type": "markdown",
   "metadata": {},
   "source": [
    "But in my dataset, there is no need for Normalization because I have only few numeric variable and the range of them is almost equal."
   ]
  },
  {
   "cell_type": "markdown",
   "metadata": {},
   "source": [
    " "
   ]
  },
  {
   "cell_type": "code",
   "execution_count": 36,
   "metadata": {},
   "outputs": [
    {
     "data": {
      "image/png": "[encoded data removed]",
      "text/plain": [
       "<Figure size 1080x2160 with 8 Axes>"
      ]
     },
     "metadata": {
      "needs_background": "light"
     },
     "output_type": "display_data"
    }
   ],
   "source": [
    "features=['Gender','Marital Status','Children','Annual Income $','City','Product Department','Units Sold','Country']\n",
    "fig=plt.subplots(figsize=(15,30))\n",
    "for i, j in enumerate(features):\n",
    "    plt.subplot(4, 2, i+1)\n",
    "    plt.subplots_adjust(hspace = 0.5)\n",
    "    s.countplot(x=j,data = data1)\n",
    "    plt.xticks(rotation=90,fontsize=12)\n",
    "    plt.title(\"Count\")"
   ]
  },
  {
   "cell_type": "markdown",
   "metadata": {},
   "source": [
    "Boxplot is used to find the distribution of the numeric variable. Through this we can fing Median, MAximum, minimum and also outliers in the variable."
   ]
  },
  {
   "cell_type": "code",
   "execution_count": 37,
   "metadata": {},
   "outputs": [
    {
     "data": {
      "text/plain": [
       "<matplotlib.axes._subplots.AxesSubplot at 0x1df96de2470>"
      ]
     },
     "execution_count": 37,
     "metadata": {},
     "output_type": "execute_result"
    },
    {
     "data": {
      "image/png": "[encoded data removed]",
      "text/plain": [
       "<Figure size 432x288 with 1 Axes>"
      ]
     },
     "metadata": {
      "needs_background": "light"
     },
     "output_type": "display_data"
    }
   ],
   "source": [
    "s.boxplot(x=data['Revenue'])"
   ]
  },
  {
   "cell_type": "code",
   "execution_count": 38,
   "metadata": {},
   "outputs": [
    {
     "data": {
      "text/plain": [
       "<matplotlib.axes._subplots.AxesSubplot at 0x1df96e7c240>"
      ]
     },
     "execution_count": 38,
     "metadata": {},
     "output_type": "execute_result"
    },
    {
     "data": {
      "image/png": "[encoded data removed]",
      "text/plain": [
       "<Figure size 432x288 with 1 Axes>"
      ]
     },
     "metadata": {
      "needs_background": "light"
     },
     "output_type": "display_data"
    }
   ],
   "source": [
    "s.boxplot(x=data['Units Sold'])"
   ]
  },
  {
   "cell_type": "markdown",
   "metadata": {},
   "source": [
    "Using countplots below to find the count of a variable with respect to another categorical variable. This is mainly used to find which categories are occuring more in number."
   ]
  },
  {
   "cell_type": "code",
   "execution_count": 39,
   "metadata": {},
   "outputs": [
    {
     "data": {
      "text/plain": [
       "<matplotlib.legend.Legend at 0x1df96ed8be0>"
      ]
     },
     "execution_count": 39,
     "metadata": {},
     "output_type": "execute_result"
    },
    {
     "data": {
      "image/png": "[encoded data removed]",
      "text/plain": [
       "<Figure size 720x432 with 1 Axes>"
      ]
     },
     "metadata": {
      "needs_background": "light"
     },
     "output_type": "display_data"
    }
   ],
   "source": [
    "plt.figure(figsize=(10,6))\n",
    "ax = s.countplot(x = \"Country\", hue = \"Product Family\", data = data, palette= \"tab20\")\n",
    "ax.set_title(label = \"Customer type in different branch\", fontsize = 10)\n",
    "ax.set_xlabel(xlabel = \"Produc tFamily\", fontsize = 10)\n",
    "ax.set_ylabel(ylabel = \"Count\", fontsize = 10)\n",
    "plt.legend(loc=7, prop={'size': 16})"
   ]
  },
  {
   "cell_type": "code",
   "execution_count": 40,
   "metadata": {},
   "outputs": [
    {
     "data": {
      "text/plain": [
       "<matplotlib.legend.Legend at 0x1df96efdd30>"
      ]
     },
     "execution_count": 40,
     "metadata": {},
     "output_type": "execute_result"
    },
    {
     "data": {
      "image/png": "[encoded data removed]",
      "text/plain": [
       "<Figure size 720x432 with 1 Axes>"
      ]
     },
     "metadata": {
      "needs_background": "light"
     },
     "output_type": "display_data"
    }
   ],
   "source": [
    "plt.figure(figsize=(10,6))\n",
    "ax = s.countplot(x = \"Gender\", hue = \"Marital Status\", data = data, palette= \"tab20\")\n",
    "ax.set_xlabel(xlabel = \"Gender\", fontsize = 10)\n",
    "ax.set_ylabel(ylabel = \"Count\", fontsize = 10)\n",
    "plt.legend(loc=7, prop={'size': 16})"
   ]
  },
  {
   "cell_type": "code",
   "execution_count": 41,
   "metadata": {},
   "outputs": [
    {
     "data": {
      "text/plain": [
       "<matplotlib.legend.Legend at 0x1df96d25e48>"
      ]
     },
     "execution_count": 41,
     "metadata": {},
     "output_type": "execute_result"
    },
    {
     "data": {
      "image/png": "[encoded data removed]",
      "text/plain": [
       "<Figure size 1224x1080 with 1 Axes>"
      ]
     },
     "metadata": {
      "needs_background": "light"
     },
     "output_type": "display_data"
    }
   ],
   "source": [
    "plt.figure(figsize=(17,15))\n",
    "ax = s.countplot(x = \"Annual Income $\", hue = \"City\", data = data1, palette= \"tab20\")\n",
    "ax.set_title(label = \"Customer type in different branch\", fontsize = 10)\n",
    "ax.set_xlabel(xlabel = \"Annual Income $\", fontsize = 10)\n",
    "ax.set_ylabel(ylabel = \"Count\", fontsize = 10)\n",
    "plt.legend(loc=7, prop={'size': 10})"
   ]
  },
  {
   "cell_type": "markdown",
   "metadata": {},
   "source": [
    "To check whether there is a significant relation between Number of children of customers and Revenue the line chart is plotted."
   ]
  },
  {
   "cell_type": "code",
   "execution_count": 42,
   "metadata": {},
   "outputs": [
    {
     "data": {
      "image/png": "[encoded data removed]",
      "text/plain": [
       "<Figure size 1008x432 with 1 Axes>"
      ]
     },
     "metadata": {
      "needs_background": "light"
     },
     "output_type": "display_data"
    }
   ],
   "source": [
    "plt.figure(figsize=(14,6)) \n",
    "SalesTime = s.lineplot(x=\"Children\", y =\"Revenue\", data = data1).set_title(\"Revenue Vs Children count of customers\")"
   ]
  },
  {
   "cell_type": "code",
   "execution_count": 43,
   "metadata": {},
   "outputs": [
    {
     "data": {
      "text/plain": [
       "Text(0.5, 1.0, 'Revenue vs Units sold')"
      ]
     },
     "execution_count": 43,
     "metadata": {},
     "output_type": "execute_result"
    },
    {
     "data": {
      "image/png": "[encoded data removed]",
      "text/plain": [
       "<Figure size 720x936 with 1 Axes>"
      ]
     },
     "metadata": {
      "needs_background": "light"
     },
     "output_type": "display_data"
    }
   ],
   "source": [
    "plt.figure(figsize=(10,13))\n",
    "plt.scatter(data1['Units Sold'],data1['Revenue'])\n",
    "plt.xlabel(\"Units sold\",fontsize=17)\n",
    "plt.ylabel(\"Revenue\",fontsize=17)\n",
    "plt.title(\"Revenue vs Units sold\",fontsize=20)"
   ]
  },
  {
   "cell_type": "markdown",
   "metadata": {},
   "source": [
    "To plot the continuous variable Revenue, histogram is used to find the frequency. It displays numerical data by grouping data into \"bins\" of equal width"
   ]
  },
  {
   "cell_type": "code",
   "execution_count": 45,
   "metadata": {},
   "outputs": [
    {
     "data": {
      "text/plain": [
       "<matplotlib.axes._subplots.AxesSubplot at 0x1df96bf0be0>"
      ]
     },
     "execution_count": 45,
     "metadata": {},
     "output_type": "execute_result"
    },
    {
     "data": {
      "image/png": "[encoded data removed]",
      "text/plain": [
       "<Figure size 432x288 with 1 Axes>"
      ]
     },
     "metadata": {
      "needs_background": "light"
     },
     "output_type": "display_data"
    }
   ],
   "source": [
    "data1['Revenue'].hist(bins=10)"
   ]
  },
  {
   "cell_type": "code",
   "execution_count": 46,
   "metadata": {},
   "outputs": [
    {
     "data": {
      "text/plain": [
       "Purchase Date                object\n",
       "Customer ID                   int64\n",
       "Gender                       object\n",
       "Marital Status               object\n",
       "Homeowner                    object\n",
       "Children                      int64\n",
       "Annual Income $              object\n",
       "City                         object\n",
       "State or Province            object\n",
       "Country                      object\n",
       "Product Family               object\n",
       "Product Department           object\n",
       "Product Category             object\n",
       "Units Sold                    int64\n",
       "Revenue                     float64\n",
       "Year_of_Purchase             object\n",
       "High_Revenue_Contributor     object\n",
       "dtype: object"
      ]
     },
     "execution_count": 46,
     "metadata": {},
     "output_type": "execute_result"
    }
   ],
   "source": [
    "#To change the datatype of Year_of_Purchase from int to object\n",
    "data1[\"Year_of_Purchase\"]=data1[\"Year_of_Purchase\"].astype(int).astype(str)\n",
    "data1.dtypes"
   ]
  },
  {
   "cell_type": "markdown",
   "metadata": {},
   "source": [
    "To find the distribution of Food, Drink and Non consumables with respect to the Revenue and also to find which product family has the most number of outliers, the chart given below is plotted."
   ]
  },
  {
   "cell_type": "code",
   "execution_count": 47,
   "metadata": {},
   "outputs": [
    {
     "name": "stderr",
     "output_type": "stream",
     "text": [
      "'c' argument looks like a single numeric RGB or RGBA sequence, which should be avoided as value-mapping will have precedence in case its length matches with 'x' & 'y'.  Please use a 2-D array with a single row if you really want to specify the same RGB or RGBA value for all points.\n",
      "'c' argument looks like a single numeric RGB or RGBA sequence, which should be avoided as value-mapping will have precedence in case its length matches with 'x' & 'y'.  Please use a 2-D array with a single row if you really want to specify the same RGB or RGBA value for all points.\n",
      "'c' argument looks like a single numeric RGB or RGBA sequence, which should be avoided as value-mapping will have precedence in case its length matches with 'x' & 'y'.  Please use a 2-D array with a single row if you really want to specify the same RGB or RGBA value for all points.\n"
     ]
    },
    {
     "data": {
      "text/plain": [
       "Text(0, 0.5, 'Product Family')"
      ]
     },
     "execution_count": 47,
     "metadata": {},
     "output_type": "execute_result"
    },
    {
     "data": {
      "image/png": "[encoded data removed]",
      "text/plain": [
       "<Figure size 1008x432 with 1 Axes>"
      ]
     },
     "metadata": {
      "needs_background": "light"
     },
     "output_type": "display_data"
    }
   ],
   "source": [
    "plt.figure(figsize=(14,6))\n",
    "ax = s.boxenplot(y= \"Product Family\", x= \"Revenue\", data = data1)\n",
    "ax.set_title(label = \" Total Revenue Distribution\", fontsize = 25)\n",
    "ax.set_xlabel(xlabel = \"Revenue\", fontsize = 16)\n",
    "ax.set_ylabel(ylabel = \"Product Family\", fontsize = 16)"
   ]
  },
  {
   "cell_type": "markdown",
   "metadata": {},
   "source": [
    "Plotting a bar chart between the Year_of_Purchase and Revenue to find which year has maximum and minimum Revenue. "
   ]
  },
  {
   "cell_type": "code",
   "execution_count": 48,
   "metadata": {},
   "outputs": [
    {
     "data": {
      "image/png": "[encoded data removed]",
      "text/plain": [
       "<Figure size 576x576 with 1 Axes>"
      ]
     },
     "metadata": {
      "needs_background": "light"
     },
     "output_type": "display_data"
    }
   ],
   "source": [
    "pct = data1['Year_of_Purchase']\n",
    "rev = data1['Revenue']\n",
    "fig = plt.figure(figsize =(8, 8)) \n",
    "plt.bar(pct, rev,color=\"lightgreen\")  \n",
    "plt.xlabel('Year',fontsize=17)\n",
    "plt.ylabel('Revenue',fontsize=17)\n",
    "plt.title('Revenue Vs Purchased year',fontsize=17)\n",
    "plt.show() "
   ]
  }
 ],
 "metadata": {
  "kernelspec": {
   "display_name": "Python 3",
   "language": "python",
   "name": "python3"
  },
  "language_info": {
   "codemirror_mode": {
    "name": "ipython",
    "version": 3
   },
   "file_extension": ".py",
   "mimetype": "text/x-python",
   "name": "python",
   "nbconvert_exporter": "python",
   "pygments_lexer": "ipython3",
   "version": "3.7.3"
  }
 },
 "nbformat": 4,
 "nbformat_minor": 2
}
